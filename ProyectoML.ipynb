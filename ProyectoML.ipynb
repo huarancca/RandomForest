{
 "cells": [
  {
   "cell_type": "markdown",
   "metadata": {},
   "source": [
    "# PROYECTO DE MACHINE LEARNING"
   ]
  },
  {
   "cell_type": "markdown",
   "metadata": {},
   "source": [
    "**Autor:** Hector Elias Huarancca Nuñez"
   ]
  },
  {
   "cell_type": "markdown",
   "metadata": {},
   "source": [
    "## Descripción"
   ]
  },
  {
   "cell_type": "markdown",
   "metadata": {},
   "source": [
    "Con la data usada procede de una institucion financiera mediante el me permitira elaborar una clasificación de clientes para identificar la deseción de clientes. \n",
    "\n",
    "* **ScoreCrediticio:** Asignado por la Institucion Financiera.\n",
    "* **Pais:** Pais de residencia del cliente.\n",
    "* **Genero:** Female/Male.\n",
    "* **Edad:** Continua.\n",
    "* **Tenure:** Continua.\n",
    "* **Balance:** Situacion financiera del cliente en la Institucion Financiera.\n",
    "* **NumDeProducts:** Numero de productos contratados por cliente (Cuenta Ahorros, Cuenta Millonaria, etc).\n",
    "* **TieneTarjetaCredito:** Si/No.\n",
    "* **EsMiembroActivo:** Si/No (realiza consumos, contrata servicios, etc)\n",
    "* **SalarioEstimado:** Salario mensual del cliente."
   ]
  },
  {
   "cell_type": "markdown",
   "metadata": {},
   "source": [
    "## Librerias"
   ]
  },
  {
   "cell_type": "code",
   "execution_count": 1,
   "metadata": {},
   "outputs": [],
   "source": [
    "import utils, pickle\n",
    "import numpy as np\n",
    "import pandas as pd\n",
    "import seaborn as sns\n",
    "import matplotlib.pyplot as plt\n",
    "%matplotlib inline"
   ]
  },
  {
   "cell_type": "markdown",
   "metadata": {},
   "source": [
    "## Procesamiento de data"
   ]
  },
  {
   "cell_type": "code",
   "execution_count": 2,
   "metadata": {},
   "outputs": [
    {
     "data": {
      "text/plain": [
       "(10000, 14)"
      ]
     },
     "execution_count": 2,
     "metadata": {},
     "output_type": "execute_result"
    }
   ],
   "source": [
    "df = pd.read_csv('Data/clientes_data.csv')\n",
    "df.shape"
   ]
  },
  {
   "cell_type": "code",
   "execution_count": 3,
   "metadata": {
    "scrolled": true
   },
   "outputs": [
    {
     "data": {
      "text/html": [
       "<div>\n",
       "<style scoped>\n",
       "    .dataframe tbody tr th:only-of-type {\n",
       "        vertical-align: middle;\n",
       "    }\n",
       "\n",
       "    .dataframe tbody tr th {\n",
       "        vertical-align: top;\n",
       "    }\n",
       "\n",
       "    .dataframe thead th {\n",
       "        text-align: right;\n",
       "    }\n",
       "</style>\n",
       "<table border=\"1\" class=\"dataframe\">\n",
       "  <thead>\n",
       "    <tr style=\"text-align: right;\">\n",
       "      <th></th>\n",
       "      <th>NumeroFila</th>\n",
       "      <th>DNI</th>\n",
       "      <th>Apellido</th>\n",
       "      <th>ScoreCrediticio</th>\n",
       "      <th>Pais</th>\n",
       "      <th>Genero</th>\n",
       "      <th>edad</th>\n",
       "      <th>Tenure</th>\n",
       "      <th>Balance</th>\n",
       "      <th>NumDeProducts</th>\n",
       "      <th>TieneTarjetaCredito</th>\n",
       "      <th>EsMiembroActivo</th>\n",
       "      <th>SalarioEstimado</th>\n",
       "      <th>Abandono</th>\n",
       "    </tr>\n",
       "  </thead>\n",
       "  <tbody>\n",
       "    <tr>\n",
       "      <th>0</th>\n",
       "      <td>1</td>\n",
       "      <td>15634602</td>\n",
       "      <td>Hargrave</td>\n",
       "      <td>619</td>\n",
       "      <td>France</td>\n",
       "      <td>Female</td>\n",
       "      <td>42</td>\n",
       "      <td>2</td>\n",
       "      <td>0.00</td>\n",
       "      <td>1</td>\n",
       "      <td>Si</td>\n",
       "      <td>Si</td>\n",
       "      <td>101348.88</td>\n",
       "      <td>Si</td>\n",
       "    </tr>\n",
       "    <tr>\n",
       "      <th>1</th>\n",
       "      <td>2</td>\n",
       "      <td>15647311</td>\n",
       "      <td>Hill</td>\n",
       "      <td>608</td>\n",
       "      <td>Spain</td>\n",
       "      <td>Female</td>\n",
       "      <td>41</td>\n",
       "      <td>1</td>\n",
       "      <td>83807.86</td>\n",
       "      <td>1</td>\n",
       "      <td>No</td>\n",
       "      <td>Si</td>\n",
       "      <td>112542.58</td>\n",
       "      <td>No</td>\n",
       "    </tr>\n",
       "    <tr>\n",
       "      <th>2</th>\n",
       "      <td>3</td>\n",
       "      <td>15619304</td>\n",
       "      <td>Onio</td>\n",
       "      <td>502</td>\n",
       "      <td>France</td>\n",
       "      <td>Female</td>\n",
       "      <td>42</td>\n",
       "      <td>8</td>\n",
       "      <td>159660.80</td>\n",
       "      <td>3</td>\n",
       "      <td>Si</td>\n",
       "      <td>No</td>\n",
       "      <td>113931.57</td>\n",
       "      <td>Si</td>\n",
       "    </tr>\n",
       "    <tr>\n",
       "      <th>3</th>\n",
       "      <td>4</td>\n",
       "      <td>15701354</td>\n",
       "      <td>Boni</td>\n",
       "      <td>699</td>\n",
       "      <td>France</td>\n",
       "      <td>Female</td>\n",
       "      <td>39</td>\n",
       "      <td>1</td>\n",
       "      <td>0.00</td>\n",
       "      <td>2</td>\n",
       "      <td>No</td>\n",
       "      <td>No</td>\n",
       "      <td>93826.63</td>\n",
       "      <td>No</td>\n",
       "    </tr>\n",
       "    <tr>\n",
       "      <th>4</th>\n",
       "      <td>5</td>\n",
       "      <td>15737888</td>\n",
       "      <td>Mitchell</td>\n",
       "      <td>850</td>\n",
       "      <td>Spain</td>\n",
       "      <td>Female</td>\n",
       "      <td>43</td>\n",
       "      <td>2</td>\n",
       "      <td>125510.82</td>\n",
       "      <td>1</td>\n",
       "      <td>Si</td>\n",
       "      <td>Si</td>\n",
       "      <td>79084.10</td>\n",
       "      <td>No</td>\n",
       "    </tr>\n",
       "  </tbody>\n",
       "</table>\n",
       "</div>"
      ],
      "text/plain": [
       "   NumeroFila       DNI  Apellido  ScoreCrediticio    Pais  Genero  edad  \\\n",
       "0           1  15634602  Hargrave              619  France  Female    42   \n",
       "1           2  15647311      Hill              608   Spain  Female    41   \n",
       "2           3  15619304      Onio              502  France  Female    42   \n",
       "3           4  15701354      Boni              699  France  Female    39   \n",
       "4           5  15737888  Mitchell              850   Spain  Female    43   \n",
       "\n",
       "   Tenure    Balance  NumDeProducts TieneTarjetaCredito EsMiembroActivo  \\\n",
       "0       2       0.00              1                  Si              Si   \n",
       "1       1   83807.86              1                  No              Si   \n",
       "2       8  159660.80              3                  Si              No   \n",
       "3       1       0.00              2                  No              No   \n",
       "4       2  125510.82              1                  Si              Si   \n",
       "\n",
       "   SalarioEstimado Abandono  \n",
       "0        101348.88       Si  \n",
       "1        112542.58       No  \n",
       "2        113931.57       Si  \n",
       "3         93826.63       No  \n",
       "4         79084.10       No  "
      ]
     },
     "execution_count": 3,
     "metadata": {},
     "output_type": "execute_result"
    }
   ],
   "source": [
    "df.head()"
   ]
  },
  {
   "cell_type": "code",
   "execution_count": 4,
   "metadata": {},
   "outputs": [
    {
     "data": {
      "text/html": [
       "<div>\n",
       "<style scoped>\n",
       "    .dataframe tbody tr th:only-of-type {\n",
       "        vertical-align: middle;\n",
       "    }\n",
       "\n",
       "    .dataframe tbody tr th {\n",
       "        vertical-align: top;\n",
       "    }\n",
       "\n",
       "    .dataframe thead th {\n",
       "        text-align: right;\n",
       "    }\n",
       "</style>\n",
       "<table border=\"1\" class=\"dataframe\">\n",
       "  <thead>\n",
       "    <tr style=\"text-align: right;\">\n",
       "      <th></th>\n",
       "      <th>ScoreCrediticio</th>\n",
       "      <th>Pais</th>\n",
       "      <th>Genero</th>\n",
       "      <th>edad</th>\n",
       "      <th>Tenure</th>\n",
       "      <th>Balance</th>\n",
       "      <th>NumDeProducts</th>\n",
       "      <th>TieneTarjetaCredito</th>\n",
       "      <th>EsMiembroActivo</th>\n",
       "      <th>SalarioEstimado</th>\n",
       "      <th>Abandono</th>\n",
       "    </tr>\n",
       "  </thead>\n",
       "  <tbody>\n",
       "    <tr>\n",
       "      <th>0</th>\n",
       "      <td>619</td>\n",
       "      <td>France</td>\n",
       "      <td>Female</td>\n",
       "      <td>42</td>\n",
       "      <td>2</td>\n",
       "      <td>0.00</td>\n",
       "      <td>1</td>\n",
       "      <td>Si</td>\n",
       "      <td>Si</td>\n",
       "      <td>101348.88</td>\n",
       "      <td>Si</td>\n",
       "    </tr>\n",
       "    <tr>\n",
       "      <th>1</th>\n",
       "      <td>608</td>\n",
       "      <td>Spain</td>\n",
       "      <td>Female</td>\n",
       "      <td>41</td>\n",
       "      <td>1</td>\n",
       "      <td>83807.86</td>\n",
       "      <td>1</td>\n",
       "      <td>No</td>\n",
       "      <td>Si</td>\n",
       "      <td>112542.58</td>\n",
       "      <td>No</td>\n",
       "    </tr>\n",
       "    <tr>\n",
       "      <th>2</th>\n",
       "      <td>502</td>\n",
       "      <td>France</td>\n",
       "      <td>Female</td>\n",
       "      <td>42</td>\n",
       "      <td>8</td>\n",
       "      <td>159660.80</td>\n",
       "      <td>3</td>\n",
       "      <td>Si</td>\n",
       "      <td>No</td>\n",
       "      <td>113931.57</td>\n",
       "      <td>Si</td>\n",
       "    </tr>\n",
       "    <tr>\n",
       "      <th>3</th>\n",
       "      <td>699</td>\n",
       "      <td>France</td>\n",
       "      <td>Female</td>\n",
       "      <td>39</td>\n",
       "      <td>1</td>\n",
       "      <td>0.00</td>\n",
       "      <td>2</td>\n",
       "      <td>No</td>\n",
       "      <td>No</td>\n",
       "      <td>93826.63</td>\n",
       "      <td>No</td>\n",
       "    </tr>\n",
       "    <tr>\n",
       "      <th>4</th>\n",
       "      <td>850</td>\n",
       "      <td>Spain</td>\n",
       "      <td>Female</td>\n",
       "      <td>43</td>\n",
       "      <td>2</td>\n",
       "      <td>125510.82</td>\n",
       "      <td>1</td>\n",
       "      <td>Si</td>\n",
       "      <td>Si</td>\n",
       "      <td>79084.10</td>\n",
       "      <td>No</td>\n",
       "    </tr>\n",
       "  </tbody>\n",
       "</table>\n",
       "</div>"
      ],
      "text/plain": [
       "   ScoreCrediticio    Pais  Genero  edad  Tenure    Balance  NumDeProducts  \\\n",
       "0              619  France  Female    42       2       0.00              1   \n",
       "1              608   Spain  Female    41       1   83807.86              1   \n",
       "2              502  France  Female    42       8  159660.80              3   \n",
       "3              699  France  Female    39       1       0.00              2   \n",
       "4              850   Spain  Female    43       2  125510.82              1   \n",
       "\n",
       "  TieneTarjetaCredito EsMiembroActivo  SalarioEstimado Abandono  \n",
       "0                  Si              Si        101348.88       Si  \n",
       "1                  No              Si        112542.58       No  \n",
       "2                  Si              No        113931.57       Si  \n",
       "3                  No              No         93826.63       No  \n",
       "4                  Si              Si         79084.10       No  "
      ]
     },
     "execution_count": 4,
     "metadata": {},
     "output_type": "execute_result"
    }
   ],
   "source": [
    "# Eliminamos las 3 primeras columnas que corresponden a NumeroFila, DNI y Apellido\n",
    "if 'NumeroFila'in df.columns:\n",
    "    df.drop(df.columns[0:3], axis = 1, inplace = True)\n",
    "df.head()"
   ]
  },
  {
   "cell_type": "code",
   "execution_count": 5,
   "metadata": {},
   "outputs": [
    {
     "data": {
      "text/plain": [
       "ScoreCrediticio          int64\n",
       "Pais                    object\n",
       "Genero                  object\n",
       "edad                     int64\n",
       "Tenure                   int64\n",
       "Balance                float64\n",
       "NumDeProducts            int64\n",
       "TieneTarjetaCredito     object\n",
       "EsMiembroActivo         object\n",
       "SalarioEstimado        float64\n",
       "Abandono                object\n",
       "dtype: object"
      ]
     },
     "execution_count": 5,
     "metadata": {},
     "output_type": "execute_result"
    }
   ],
   "source": [
    "#Visualizamos el tipo de datos\n",
    "df.dtypes"
   ]
  },
  {
   "cell_type": "code",
   "execution_count": 6,
   "metadata": {},
   "outputs": [
    {
     "data": {
      "text/plain": [
       "ScoreCrediticio           int64\n",
       "Pais                   category\n",
       "Genero                 category\n",
       "edad                      int64\n",
       "Tenure                    int64\n",
       "Balance                 float64\n",
       "NumDeProducts             int64\n",
       "TieneTarjetaCredito    category\n",
       "EsMiembroActivo        category\n",
       "SalarioEstimado         float64\n",
       "Abandono                 object\n",
       "dtype: object"
      ]
     },
     "execution_count": 6,
     "metadata": {},
     "output_type": "execute_result"
    }
   ],
   "source": [
    "# Procedemos a convertir las columnas a tipo \"category\" dejando de lado la columna 'Abandono'\n",
    "for n,col in df.items():\n",
    "    if not pd.api.types.is_numeric_dtype(col) and n != 'Abandono':\n",
    "        # Transforma la variable a tipo category\n",
    "        df[n] = col.astype('category')      \n",
    "\n",
    "df.dtypes"
   ]
  },
  {
   "cell_type": "code",
   "execution_count": 7,
   "metadata": {},
   "outputs": [
    {
     "data": {
      "text/html": [
       "<div>\n",
       "<style scoped>\n",
       "    .dataframe tbody tr th:only-of-type {\n",
       "        vertical-align: middle;\n",
       "    }\n",
       "\n",
       "    .dataframe tbody tr th {\n",
       "        vertical-align: top;\n",
       "    }\n",
       "\n",
       "    .dataframe thead th {\n",
       "        text-align: right;\n",
       "    }\n",
       "</style>\n",
       "<table border=\"1\" class=\"dataframe\">\n",
       "  <thead>\n",
       "    <tr style=\"text-align: right;\">\n",
       "      <th></th>\n",
       "      <th>ScoreCrediticio</th>\n",
       "      <th>Pais</th>\n",
       "      <th>Genero</th>\n",
       "      <th>edad</th>\n",
       "      <th>Tenure</th>\n",
       "      <th>Balance</th>\n",
       "      <th>NumDeProducts</th>\n",
       "      <th>TieneTarjetaCredito</th>\n",
       "      <th>EsMiembroActivo</th>\n",
       "      <th>SalarioEstimado</th>\n",
       "      <th>Abandono</th>\n",
       "    </tr>\n",
       "  </thead>\n",
       "  <tbody>\n",
       "    <tr>\n",
       "      <th>0</th>\n",
       "      <td>619</td>\n",
       "      <td>1</td>\n",
       "      <td>1</td>\n",
       "      <td>42</td>\n",
       "      <td>2</td>\n",
       "      <td>0.00</td>\n",
       "      <td>1</td>\n",
       "      <td>2</td>\n",
       "      <td>2</td>\n",
       "      <td>101348.88</td>\n",
       "      <td>Si</td>\n",
       "    </tr>\n",
       "    <tr>\n",
       "      <th>1</th>\n",
       "      <td>608</td>\n",
       "      <td>3</td>\n",
       "      <td>1</td>\n",
       "      <td>41</td>\n",
       "      <td>1</td>\n",
       "      <td>83807.86</td>\n",
       "      <td>1</td>\n",
       "      <td>1</td>\n",
       "      <td>2</td>\n",
       "      <td>112542.58</td>\n",
       "      <td>No</td>\n",
       "    </tr>\n",
       "    <tr>\n",
       "      <th>2</th>\n",
       "      <td>502</td>\n",
       "      <td>1</td>\n",
       "      <td>1</td>\n",
       "      <td>42</td>\n",
       "      <td>8</td>\n",
       "      <td>159660.80</td>\n",
       "      <td>3</td>\n",
       "      <td>2</td>\n",
       "      <td>1</td>\n",
       "      <td>113931.57</td>\n",
       "      <td>Si</td>\n",
       "    </tr>\n",
       "    <tr>\n",
       "      <th>3</th>\n",
       "      <td>699</td>\n",
       "      <td>1</td>\n",
       "      <td>1</td>\n",
       "      <td>39</td>\n",
       "      <td>1</td>\n",
       "      <td>0.00</td>\n",
       "      <td>2</td>\n",
       "      <td>1</td>\n",
       "      <td>1</td>\n",
       "      <td>93826.63</td>\n",
       "      <td>No</td>\n",
       "    </tr>\n",
       "    <tr>\n",
       "      <th>4</th>\n",
       "      <td>850</td>\n",
       "      <td>3</td>\n",
       "      <td>1</td>\n",
       "      <td>43</td>\n",
       "      <td>2</td>\n",
       "      <td>125510.82</td>\n",
       "      <td>1</td>\n",
       "      <td>2</td>\n",
       "      <td>2</td>\n",
       "      <td>79084.10</td>\n",
       "      <td>No</td>\n",
       "    </tr>\n",
       "    <tr>\n",
       "      <th>5</th>\n",
       "      <td>645</td>\n",
       "      <td>3</td>\n",
       "      <td>2</td>\n",
       "      <td>44</td>\n",
       "      <td>8</td>\n",
       "      <td>113755.78</td>\n",
       "      <td>2</td>\n",
       "      <td>2</td>\n",
       "      <td>1</td>\n",
       "      <td>149756.71</td>\n",
       "      <td>Si</td>\n",
       "    </tr>\n",
       "    <tr>\n",
       "      <th>6</th>\n",
       "      <td>822</td>\n",
       "      <td>1</td>\n",
       "      <td>2</td>\n",
       "      <td>50</td>\n",
       "      <td>7</td>\n",
       "      <td>0.00</td>\n",
       "      <td>2</td>\n",
       "      <td>2</td>\n",
       "      <td>2</td>\n",
       "      <td>10062.80</td>\n",
       "      <td>No</td>\n",
       "    </tr>\n",
       "    <tr>\n",
       "      <th>7</th>\n",
       "      <td>376</td>\n",
       "      <td>2</td>\n",
       "      <td>1</td>\n",
       "      <td>29</td>\n",
       "      <td>4</td>\n",
       "      <td>115046.74</td>\n",
       "      <td>4</td>\n",
       "      <td>2</td>\n",
       "      <td>1</td>\n",
       "      <td>119346.88</td>\n",
       "      <td>Si</td>\n",
       "    </tr>\n",
       "    <tr>\n",
       "      <th>8</th>\n",
       "      <td>501</td>\n",
       "      <td>1</td>\n",
       "      <td>2</td>\n",
       "      <td>44</td>\n",
       "      <td>4</td>\n",
       "      <td>142051.07</td>\n",
       "      <td>2</td>\n",
       "      <td>1</td>\n",
       "      <td>2</td>\n",
       "      <td>74940.50</td>\n",
       "      <td>No</td>\n",
       "    </tr>\n",
       "    <tr>\n",
       "      <th>9</th>\n",
       "      <td>684</td>\n",
       "      <td>1</td>\n",
       "      <td>2</td>\n",
       "      <td>27</td>\n",
       "      <td>2</td>\n",
       "      <td>134603.88</td>\n",
       "      <td>1</td>\n",
       "      <td>2</td>\n",
       "      <td>2</td>\n",
       "      <td>71725.73</td>\n",
       "      <td>No</td>\n",
       "    </tr>\n",
       "  </tbody>\n",
       "</table>\n",
       "</div>"
      ],
      "text/plain": [
       "   ScoreCrediticio  Pais  Genero  edad  Tenure    Balance  NumDeProducts  \\\n",
       "0              619     1       1    42       2       0.00              1   \n",
       "1              608     3       1    41       1   83807.86              1   \n",
       "2              502     1       1    42       8  159660.80              3   \n",
       "3              699     1       1    39       1       0.00              2   \n",
       "4              850     3       1    43       2  125510.82              1   \n",
       "5              645     3       2    44       8  113755.78              2   \n",
       "6              822     1       2    50       7       0.00              2   \n",
       "7              376     2       1    29       4  115046.74              4   \n",
       "8              501     1       2    44       4  142051.07              2   \n",
       "9              684     1       2    27       2  134603.88              1   \n",
       "\n",
       "   TieneTarjetaCredito  EsMiembroActivo  SalarioEstimado Abandono  \n",
       "0                    2                2        101348.88       Si  \n",
       "1                    1                2        112542.58       No  \n",
       "2                    2                1        113931.57       Si  \n",
       "3                    1                1         93826.63       No  \n",
       "4                    2                2         79084.10       No  \n",
       "5                    2                1        149756.71       Si  \n",
       "6                    2                2         10062.80       No  \n",
       "7                    2                1        119346.88       Si  \n",
       "8                    1                2         74940.50       No  \n",
       "9                    2                2         71725.73       No  "
      ]
     },
     "execution_count": 7,
     "metadata": {},
     "output_type": "execute_result"
    }
   ],
   "source": [
    "# Como el dataset no tiene data faltante procedemos a transformar las columnas a numerica.\n",
    "df_final = df.copy()\n",
    "\n",
    "# Convertir cada columna categórica a numérica\n",
    "for n,col in df_final.items():\n",
    "    if pd.api.types.is_categorical_dtype(col):\n",
    "        df_final[n] = col.cat.codes+1\n",
    "        \n",
    "df_final.head(10)"
   ]
  },
  {
   "cell_type": "code",
   "execution_count": 8,
   "metadata": {},
   "outputs": [
    {
     "data": {
      "text/plain": [
       "(10000, 11)"
      ]
     },
     "execution_count": 8,
     "metadata": {},
     "output_type": "execute_result"
    }
   ],
   "source": [
    "df_final.shape"
   ]
  },
  {
   "cell_type": "code",
   "execution_count": 9,
   "metadata": {},
   "outputs": [
    {
     "name": "stdout",
     "output_type": "stream",
     "text": [
      "Dimension Data train : (8000, 10)\n",
      "Dimension Data test : (2000, 10)\n"
     ]
    }
   ],
   "source": [
    "#Importamos la train_test_split para realizar el split del dataset\n",
    "from sklearn.model_selection import train_test_split\n",
    "x = df_final.drop('Abandono', axis=1)\n",
    "y = df_final['Abandono']\n",
    "\n",
    "x_train, x_val, y_train, y_val = train_test_split(x, y, test_size=0.2, random_state=42)\n",
    "print(f'Dimension Data train : {x_train.shape}')\n",
    "print(f'Dimension Data test : {x_val.shape}')"
   ]
  },
  {
   "cell_type": "markdown",
   "metadata": {},
   "source": [
    "# Entrenamiento de Random Forest"
   ]
  },
  {
   "cell_type": "code",
   "execution_count": 10,
   "metadata": {},
   "outputs": [
    {
     "name": "stderr",
     "output_type": "stream",
     "text": [
      "/home/hector/anaconda3/envs/ml/lib/python3.6/site-packages/sklearn/ensemble/weight_boosting.py:29: DeprecationWarning: numpy.core.umath_tests is an internal NumPy module and should not be imported. It will be removed in a future NumPy release.\n",
      "  from numpy.core.umath_tests import inner1d\n"
     ]
    },
    {
     "data": {
      "text/plain": [
       "RandomForestClassifier(bootstrap=True, class_weight=None, criterion='gini',\n",
       "            max_depth=None, max_features='auto', max_leaf_nodes=None,\n",
       "            min_impurity_decrease=0.0, min_impurity_split=None,\n",
       "            min_samples_leaf=1, min_samples_split=2,\n",
       "            min_weight_fraction_leaf=0.0, n_estimators=10, n_jobs=-1,\n",
       "            oob_score=False, random_state=None, verbose=0,\n",
       "            warm_start=False)"
      ]
     },
     "execution_count": 10,
     "metadata": {},
     "output_type": "execute_result"
    }
   ],
   "source": [
    "from sklearn.ensemble import RandomForestClassifier\n",
    "\n",
    "m = RandomForestClassifier(n_estimators=10, n_jobs=-1)\n",
    "m.fit(x_train, y_train)"
   ]
  },
  {
   "cell_type": "markdown",
   "metadata": {},
   "source": [
    "## Definición de Score "
   ]
  },
  {
   "cell_type": "code",
   "execution_count": 11,
   "metadata": {},
   "outputs": [
    {
     "name": "stdout",
     "output_type": "stream",
     "text": [
      "Scores:\n",
      "Train      = 0.9836\n",
      "Validation = 0.8555\n"
     ]
    }
   ],
   "source": [
    "# Funcion score que me permite visualizar los resultados del entrenamiento.\n",
    "def score():\n",
    "    print(f'Scores:')\n",
    "    print(f'Train      = {m.score(x_train, y_train):.4}')\n",
    "    print(f'Validation = {m.score(x_val, y_val):.4}')\n",
    "    \n",
    "score() "
   ]
  },
  {
   "cell_type": "code",
   "execution_count": 12,
   "metadata": {},
   "outputs": [
    {
     "name": "stdout",
     "output_type": "stream",
     "text": [
      "(10, 2000)\n"
     ]
    },
    {
     "data": {
      "text/plain": [
       "array([[0., 0., 0., ..., 1., 0., 0.],\n",
       "       [0., 0., 0., ..., 1., 0., 1.],\n",
       "       [0., 0., 0., ..., 0., 0., 1.],\n",
       "       ...,\n",
       "       [0., 0., 1., ..., 1., 0., 0.],\n",
       "       [0., 0., 1., ..., 1., 0., 1.],\n",
       "       [0., 0., 0., ..., 0., 0., 0.]])"
      ]
     },
     "execution_count": 12,
     "metadata": {},
     "output_type": "execute_result"
    }
   ],
   "source": [
    "# El parámetro \"estimators_\" del modelo, contiene los árboles entrenados.\n",
    "# Vamos a obtener las prediciones de cada árbol\n",
    "preds = np.stack([t.predict(x_val) for t in m.estimators_])\n",
    "print(preds.shape)\n",
    "preds"
   ]
  },
  {
   "cell_type": "code",
   "execution_count": 13,
   "metadata": {},
   "outputs": [
    {
     "data": {
      "image/png": "[encoded data removed]",
      "text/plain": [
       "<Figure size 432x288 with 1 Axes>"
      ]
     },
     "metadata": {},
     "output_type": "display_data"
    }
   ],
   "source": [
    "# Ahora procedemos a visualiza el score de cada arbol\n",
    "from sklearn.metrics import accuracy_score\n",
    "\n",
    "accs = [accuracy_score(y_val=='Si', p) for p in preds]\n",
    "plt.plot(accs, '-o')\n",
    "plt.title('Scores invididuales');"
   ]
  },
  {
   "cell_type": "code",
   "execution_count": 14,
   "metadata": {},
   "outputs": [
    {
     "data": {
      "image/png": "[encoded data removed]",
      "text/plain": [
       "<Figure size 432x288 with 1 Axes>"
      ]
     },
     "metadata": {},
     "output_type": "display_data"
    }
   ],
   "source": [
    "# Ahora veamos el score acumulado\n",
    "acum_accs = [accuracy_score(y_val=='Si', np.mean(preds[:i+1,:], axis=0) > 0.5) for i in range(len(preds))]\n",
    "plt.plot(acum_accs, '-o')\n",
    "plt.title('Scores acumulados');"
   ]
  },
  {
   "cell_type": "code",
   "execution_count": 15,
   "metadata": {},
   "outputs": [
    {
     "data": {
      "text/plain": [
       "(False, 0.30000000000000004)"
      ]
     },
     "execution_count": 15,
     "metadata": {},
     "output_type": "execute_result"
    }
   ],
   "source": [
    "# Usemos los árboles para obtener una predicción con una estimación de confianza.\n",
    "sample = x_val.sample(1)\n",
    "\n",
    "pred = np.stack([t.predict(sample) for t in m.estimators_])\n",
    "\n",
    "pred.mean() > 0.5, pred.std()"
   ]
  },
  {
   "cell_type": "code",
   "execution_count": 16,
   "metadata": {},
   "outputs": [
    {
     "data": {
      "text/plain": [
       "array([[0.],\n",
       "       [0.],\n",
       "       [0.],\n",
       "       [0.],\n",
       "       [0.],\n",
       "       [0.],\n",
       "       [0.],\n",
       "       [0.],\n",
       "       [0.],\n",
       "       [1.]])"
      ]
     },
     "execution_count": 16,
     "metadata": {},
     "output_type": "execute_result"
    }
   ],
   "source": [
    "pred"
   ]
  },
  {
   "cell_type": "markdown",
   "metadata": {},
   "source": [
    "## Out-of-bag (OOB) score"
   ]
  },
  {
   "cell_type": "markdown",
   "metadata": {},
   "source": [
    "Ahora procedemos a hallar el "
   ]
  },
  {
   "cell_type": "code",
   "execution_count": 17,
   "metadata": {},
   "outputs": [
    {
     "data": {
      "text/plain": [
       "RandomForestClassifier(bootstrap=True, class_weight=None, criterion='gini',\n",
       "            max_depth=None, max_features='auto', max_leaf_nodes=None,\n",
       "            min_impurity_decrease=0.0, min_impurity_split=None,\n",
       "            min_samples_leaf=1, min_samples_split=2,\n",
       "            min_weight_fraction_leaf=0.0, n_estimators=40, n_jobs=-1,\n",
       "            oob_score=True, random_state=None, verbose=0, warm_start=False)"
      ]
     },
     "execution_count": 17,
     "metadata": {},
     "output_type": "execute_result"
    }
   ],
   "source": [
    "m = RandomForestClassifier(n_estimators=40, n_jobs=-1, oob_score=True)\n",
    "m.fit(x_train, y_train)"
   ]
  },
  {
   "cell_type": "code",
   "execution_count": 18,
   "metadata": {},
   "outputs": [
    {
     "data": {
      "text/plain": [
       "0.85225"
      ]
     },
     "execution_count": 18,
     "metadata": {},
     "output_type": "execute_result"
    }
   ],
   "source": [
    "m.oob_score_"
   ]
  },
  {
   "cell_type": "code",
   "execution_count": 19,
   "metadata": {},
   "outputs": [
    {
     "name": "stdout",
     "output_type": "stream",
     "text": [
      "Scores:\n",
      "Train      = 0.9991\n",
      "Validation = 0.863\n",
      "OOB        = 0.8522\n"
     ]
    }
   ],
   "source": [
    "# Vamos a modificar la función score, para incluir el oob score.\n",
    "def score():\n",
    "    print(f'Scores:')\n",
    "    print(f'Train      = {m.score(x_train, y_train):.4}')\n",
    "    print(f'Validation = {m.score(x_val, y_val):.4}')\n",
    "    if hasattr(m, 'oob_score_'): print(f'OOB        = {m.oob_score_:.4}')\n",
    "    \n",
    "score()   "
   ]
  },
  {
   "cell_type": "markdown",
   "metadata": {},
   "source": [
    "# Interpretacion del modelo"
   ]
  },
  {
   "cell_type": "markdown",
   "metadata": {},
   "source": [
    "## Features importances"
   ]
  },
  {
   "cell_type": "markdown",
   "metadata": {},
   "source": [
    "###  Mean decrease impurity"
   ]
  },
  {
   "cell_type": "code",
   "execution_count": 20,
   "metadata": {},
   "outputs": [
    {
     "data": {
      "text/plain": [
       "array([0.1406549 , 0.03549927, 0.01936538, 0.24070449, 0.0831941 ,\n",
       "       0.13956381, 0.12659247, 0.01957321, 0.04422726, 0.15062512])"
      ]
     },
     "execution_count": 20,
     "metadata": {},
     "output_type": "execute_result"
    }
   ],
   "source": [
    "m.feature_importances_"
   ]
  },
  {
   "cell_type": "code",
   "execution_count": 21,
   "metadata": {},
   "outputs": [
    {
     "data": {
      "text/html": [
       "<style  type=\"text/css\" >\n",
       "    #T_dcbc9402_9cda_11e8_b652_1f2cf58523f8row0_col1 {\n",
       "            width:  10em;\n",
       "             height:  80%;\n",
       "            background:  linear-gradient(90deg,#d65f5f 100.0%, transparent 0%);\n",
       "        }    #T_dcbc9402_9cda_11e8_b652_1f2cf58523f8row1_col1 {\n",
       "            width:  10em;\n",
       "             height:  80%;\n",
       "            background:  linear-gradient(90deg,#d65f5f 59.3%, transparent 0%);\n",
       "        }    #T_dcbc9402_9cda_11e8_b652_1f2cf58523f8row2_col1 {\n",
       "            width:  10em;\n",
       "             height:  80%;\n",
       "            background:  linear-gradient(90deg,#d65f5f 54.8%, transparent 0%);\n",
       "        }    #T_dcbc9402_9cda_11e8_b652_1f2cf58523f8row3_col1 {\n",
       "            width:  10em;\n",
       "             height:  80%;\n",
       "            background:  linear-gradient(90deg,#d65f5f 54.3%, transparent 0%);\n",
       "        }    #T_dcbc9402_9cda_11e8_b652_1f2cf58523f8row4_col1 {\n",
       "            width:  10em;\n",
       "             height:  80%;\n",
       "            background:  linear-gradient(90deg,#d65f5f 48.4%, transparent 0%);\n",
       "        }    #T_dcbc9402_9cda_11e8_b652_1f2cf58523f8row5_col1 {\n",
       "            width:  10em;\n",
       "             height:  80%;\n",
       "            background:  linear-gradient(90deg,#d65f5f 28.8%, transparent 0%);\n",
       "        }    #T_dcbc9402_9cda_11e8_b652_1f2cf58523f8row6_col1 {\n",
       "            width:  10em;\n",
       "             height:  80%;\n",
       "            background:  linear-gradient(90deg,#d65f5f 11.2%, transparent 0%);\n",
       "        }    #T_dcbc9402_9cda_11e8_b652_1f2cf58523f8row7_col1 {\n",
       "            width:  10em;\n",
       "             height:  80%;\n",
       "            background:  linear-gradient(90deg,#d65f5f 7.3%, transparent 0%);\n",
       "        }    #T_dcbc9402_9cda_11e8_b652_1f2cf58523f8row8_col1 {\n",
       "            width:  10em;\n",
       "             height:  80%;\n",
       "            background:  linear-gradient(90deg,#d65f5f 0.1%, transparent 0%);\n",
       "        }    #T_dcbc9402_9cda_11e8_b652_1f2cf58523f8row9_col1 {\n",
       "            width:  10em;\n",
       "             height:  80%;\n",
       "        }</style>  \n",
       "<table id=\"T_dcbc9402_9cda_11e8_b652_1f2cf58523f8\" > \n",
       "<thead>    <tr> \n",
       "        <th class=\"blank level0\" ></th> \n",
       "        <th class=\"col_heading level0 col0\" >columna</th> \n",
       "        <th class=\"col_heading level0 col1\" >importancia</th> \n",
       "    </tr></thead> \n",
       "<tbody>    <tr> \n",
       "        <th id=\"T_dcbc9402_9cda_11e8_b652_1f2cf58523f8level0_row0\" class=\"row_heading level0 row0\" >3</th> \n",
       "        <td id=\"T_dcbc9402_9cda_11e8_b652_1f2cf58523f8row0_col0\" class=\"data row0 col0\" >edad</td> \n",
       "        <td id=\"T_dcbc9402_9cda_11e8_b652_1f2cf58523f8row0_col1\" class=\"data row0 col1\" >0.240704</td> \n",
       "    </tr>    <tr> \n",
       "        <th id=\"T_dcbc9402_9cda_11e8_b652_1f2cf58523f8level0_row1\" class=\"row_heading level0 row1\" >9</th> \n",
       "        <td id=\"T_dcbc9402_9cda_11e8_b652_1f2cf58523f8row1_col0\" class=\"data row1 col0\" >SalarioEstimado</td> \n",
       "        <td id=\"T_dcbc9402_9cda_11e8_b652_1f2cf58523f8row1_col1\" class=\"data row1 col1\" >0.150625</td> \n",
       "    </tr>    <tr> \n",
       "        <th id=\"T_dcbc9402_9cda_11e8_b652_1f2cf58523f8level0_row2\" class=\"row_heading level0 row2\" >0</th> \n",
       "        <td id=\"T_dcbc9402_9cda_11e8_b652_1f2cf58523f8row2_col0\" class=\"data row2 col0\" >ScoreCrediticio</td> \n",
       "        <td id=\"T_dcbc9402_9cda_11e8_b652_1f2cf58523f8row2_col1\" class=\"data row2 col1\" >0.140655</td> \n",
       "    </tr>    <tr> \n",
       "        <th id=\"T_dcbc9402_9cda_11e8_b652_1f2cf58523f8level0_row3\" class=\"row_heading level0 row3\" >5</th> \n",
       "        <td id=\"T_dcbc9402_9cda_11e8_b652_1f2cf58523f8row3_col0\" class=\"data row3 col0\" >Balance</td> \n",
       "        <td id=\"T_dcbc9402_9cda_11e8_b652_1f2cf58523f8row3_col1\" class=\"data row3 col1\" >0.139564</td> \n",
       "    </tr>    <tr> \n",
       "        <th id=\"T_dcbc9402_9cda_11e8_b652_1f2cf58523f8level0_row4\" class=\"row_heading level0 row4\" >6</th> \n",
       "        <td id=\"T_dcbc9402_9cda_11e8_b652_1f2cf58523f8row4_col0\" class=\"data row4 col0\" >NumDeProducts</td> \n",
       "        <td id=\"T_dcbc9402_9cda_11e8_b652_1f2cf58523f8row4_col1\" class=\"data row4 col1\" >0.126592</td> \n",
       "    </tr>    <tr> \n",
       "        <th id=\"T_dcbc9402_9cda_11e8_b652_1f2cf58523f8level0_row5\" class=\"row_heading level0 row5\" >4</th> \n",
       "        <td id=\"T_dcbc9402_9cda_11e8_b652_1f2cf58523f8row5_col0\" class=\"data row5 col0\" >Tenure</td> \n",
       "        <td id=\"T_dcbc9402_9cda_11e8_b652_1f2cf58523f8row5_col1\" class=\"data row5 col1\" >0.0831941</td> \n",
       "    </tr>    <tr> \n",
       "        <th id=\"T_dcbc9402_9cda_11e8_b652_1f2cf58523f8level0_row6\" class=\"row_heading level0 row6\" >8</th> \n",
       "        <td id=\"T_dcbc9402_9cda_11e8_b652_1f2cf58523f8row6_col0\" class=\"data row6 col0\" >EsMiembroActivo</td> \n",
       "        <td id=\"T_dcbc9402_9cda_11e8_b652_1f2cf58523f8row6_col1\" class=\"data row6 col1\" >0.0442273</td> \n",
       "    </tr>    <tr> \n",
       "        <th id=\"T_dcbc9402_9cda_11e8_b652_1f2cf58523f8level0_row7\" class=\"row_heading level0 row7\" >1</th> \n",
       "        <td id=\"T_dcbc9402_9cda_11e8_b652_1f2cf58523f8row7_col0\" class=\"data row7 col0\" >Pais</td> \n",
       "        <td id=\"T_dcbc9402_9cda_11e8_b652_1f2cf58523f8row7_col1\" class=\"data row7 col1\" >0.0354993</td> \n",
       "    </tr>    <tr> \n",
       "        <th id=\"T_dcbc9402_9cda_11e8_b652_1f2cf58523f8level0_row8\" class=\"row_heading level0 row8\" >7</th> \n",
       "        <td id=\"T_dcbc9402_9cda_11e8_b652_1f2cf58523f8row8_col0\" class=\"data row8 col0\" >TieneTarjetaCredito</td> \n",
       "        <td id=\"T_dcbc9402_9cda_11e8_b652_1f2cf58523f8row8_col1\" class=\"data row8 col1\" >0.0195732</td> \n",
       "    </tr>    <tr> \n",
       "        <th id=\"T_dcbc9402_9cda_11e8_b652_1f2cf58523f8level0_row9\" class=\"row_heading level0 row9\" >2</th> \n",
       "        <td id=\"T_dcbc9402_9cda_11e8_b652_1f2cf58523f8row9_col0\" class=\"data row9 col0\" >Genero</td> \n",
       "        <td id=\"T_dcbc9402_9cda_11e8_b652_1f2cf58523f8row9_col1\" class=\"data row9 col1\" >0.0193654</td> \n",
       "    </tr></tbody> \n",
       "</table> "
      ],
      "text/plain": [
       "<pandas.io.formats.style.Styler at 0x7f1a403a9cf8>"
      ]
     },
     "execution_count": 21,
     "metadata": {},
     "output_type": "execute_result"
    }
   ],
   "source": [
    "imp = pd.DataFrame({'columna':x_train.columns, 'importancia':m.feature_importances_}).sort_values('importancia', ascending=False)\n",
    "imp.style.bar()"
   ]
  },
  {
   "cell_type": "markdown",
   "metadata": {},
   "source": [
    "### Importancia de Permutacion"
   ]
  },
  {
   "cell_type": "code",
   "execution_count": 22,
   "metadata": {},
   "outputs": [
    {
     "data": {
      "image/png": "[encoded data removed]",
      "text/plain": [
       "<Figure size 360x648 with 1 Axes>"
      ]
     },
     "metadata": {},
     "output_type": "display_data"
    },
    {
     "name": "stdout",
     "output_type": "stream",
     "text": [
      "CPU times: user 547 ms, sys: 26.2 ms, total: 573 ms\n",
      "Wall time: 1.33 s\n"
     ]
    }
   ],
   "source": [
    "%%time\n",
    "from rfpimp import importances, plot_importances\n",
    "\n",
    "imp = importances(m, x_val, y_val)\n",
    "plot_importances(imp, figsize=(5,9));"
   ]
  },
  {
   "cell_type": "markdown",
   "metadata": {},
   "source": [
    "### Drop Column Importance"
   ]
  },
  {
   "cell_type": "code",
   "execution_count": 23,
   "metadata": {},
   "outputs": [
    {
     "data": {
      "image/png": "[encoded data removed]",
      "text/plain": [
       "<Figure size 360x648 with 1 Axes>"
      ]
     },
     "metadata": {},
     "output_type": "display_data"
    },
    {
     "name": "stdout",
     "output_type": "stream",
     "text": [
      "CPU times: user 6.56 s, sys: 141 ms, total: 6.7 s\n",
      "Wall time: 3.24 s\n"
     ]
    }
   ],
   "source": [
    "%%time\n",
    "from rfpimp import dropcol_importances\n",
    "\n",
    "imp = dropcol_importances(m, x_train, y_train)\n",
    "plot_importances(imp, figsize=(5,9));"
   ]
  },
  {
   "cell_type": "markdown",
   "metadata": {},
   "source": [
    "## Haciendo Predicciones"
   ]
  },
  {
   "cell_type": "code",
   "execution_count": 24,
   "metadata": {},
   "outputs": [
    {
     "data": {
      "text/plain": [
       "(1, 10)"
      ]
     },
     "execution_count": 24,
     "metadata": {},
     "output_type": "execute_result"
    }
   ],
   "source": [
    "# Ahora procedemos a predecir el comportamiento de un nuevo cliente con determinados atributos\n",
    "# ScoreCrediticio, Pais, Genero, edad, Tenure, Balance, NumDeProducts,\n",
    "# TieneTarjetaCredito, EsMiembroActivo, SalarioEstimado\n",
    "\n",
    "Cliente_new = np.array([[600,1,2,40,3,60000,2,1,1,50000]])\n",
    "Cliente_new.shape"
   ]
  },
  {
   "cell_type": "code",
   "execution_count": 25,
   "metadata": {},
   "outputs": [
    {
     "name": "stdout",
     "output_type": "stream",
     "text": [
      "El cliente abandona: ['No']\n"
     ]
    }
   ],
   "source": [
    "# Ahora procedemos a hacer la prediccion del futuro de un cliente X\n",
    "prediccion = m.predict(Cliente_new)\n",
    "print(\"El cliente abandona: {}\".format(prediccion))"
   ]
  },
  {
   "cell_type": "markdown",
   "metadata": {},
   "source": [
    "## Evaluación de modelo"
   ]
  },
  {
   "cell_type": "markdown",
   "metadata": {},
   "source": [
    "Procedemos a evaluar el accuracy del modelo"
   ]
  },
  {
   "cell_type": "code",
   "execution_count": 26,
   "metadata": {},
   "outputs": [
    {
     "name": "stdout",
     "output_type": "stream",
     "text": [
      "Predicción de las validaciones:\n",
      " ['No' 'No' 'No' ... 'Si' 'No' 'No']\n"
     ]
    }
   ],
   "source": [
    "y_pred = m.predict(x_val)\n",
    "print(\"Predicción de las validaciones:\\n {}\".format(y_pred))"
   ]
  },
  {
   "cell_type": "code",
   "execution_count": 27,
   "metadata": {},
   "outputs": [
    {
     "data": {
      "text/plain": [
       "0.863"
      ]
     },
     "execution_count": 27,
     "metadata": {},
     "output_type": "execute_result"
    }
   ],
   "source": [
    "#Score del Conjunto de Validacion\n",
    "np.mean(y_pred == y_val)"
   ]
  },
  {
   "cell_type": "code",
   "execution_count": 28,
   "metadata": {},
   "outputs": [
    {
     "data": {
      "text/plain": [
       "0.863"
      ]
     },
     "execution_count": 28,
     "metadata": {},
     "output_type": "execute_result"
    }
   ],
   "source": [
    "# Score del Conjunto de Validacion\n",
    "m.score(x_val, y_val)"
   ]
  },
  {
   "cell_type": "code",
   "execution_count": 29,
   "metadata": {},
   "outputs": [
    {
     "data": {
      "text/plain": [
       "0.85225"
      ]
     },
     "execution_count": 29,
     "metadata": {},
     "output_type": "execute_result"
    }
   ],
   "source": [
    "m.oob_score_"
   ]
  }
 ],
 "metadata": {
  "kernelspec": {
   "display_name": "Python 3",
   "language": "python",
   "name": "python3"
  },
  "language_info": {
   "codemirror_mode": {
    "name": "ipython",
    "version": 3
   },
   "file_extension": ".py",
   "mimetype": "text/x-python",
   "name": "python",
   "nbconvert_exporter": "python",
   "pygments_lexer": "ipython3",
   "version": "3.6.6"
  },
  "toc": {
   "base_numbering": 1,
   "nav_menu": {},
   "number_sections": true,
   "sideBar": true,
   "skip_h1_title": false,
   "title_cell": "Table of Contents",
   "title_sidebar": "Contents",
   "toc_cell": false,
   "toc_position": {},
   "toc_section_display": true,
   "toc_window_display": false
  }
 },
 "nbformat": 4,
 "nbformat_minor": 2
}
